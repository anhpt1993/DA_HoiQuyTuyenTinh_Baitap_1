{
 "cells": [
  {
   "cell_type": "markdown",
   "id": "b4401db3-569d-4036-ac78-5b847a77b243",
   "metadata": {},
   "source": [
    "# Các bước thực hiện làm một bài hồi quy tuyến tính\n",
    "- Bước 1: Tải dữ liệu lên\n",
    "- Bước 2: Khám phá dữ liệu\n",
    "- Bước 3: Kiểm tra và loại bỏ dữ liệu ngoại lai\n",
    "- Bước 4: Xử lý dữ liệu\n",
    "    + Xoá các cột dữ liệu không cần thiết\n",
    "    + Sửa kiểu dữ liệu\n",
    "    + Kiểm tra và trực quan hoá dữ liệu, kiểm tra dữ liệu khuyết thiếu\n",
    "    + Xử lý dữ liệu khuyết thiếu\n",
    "- Bước 5: Thực hiện các kỹ thuật xử lý trên các cột dữ liệu\n",
    "    + Loại bỏ \"đa cộng tuyến\" (multicollinearity)\n",
    "    + Bổ sung các cột nếu cần\n",
    "    + Mã hoá cột nếu cần\n",
    "    + Phân tích và chuyển đổi các biến nếu cần (variable transformation)\n",
    "- Bước 6: Xây dựng mô hình"
   ]
  },
  {
   "cell_type": "markdown",
   "id": "210f96f6-6e47-493c-94de-619ac4bc43ff",
   "metadata": {},
   "source": [
    "# **Đa cộng tuyến là gì?**: Hậu quả và cách khắc phục\n",
    "- Khái niệm: Đa cộng tuyến là hiện tượng xuất hiện khi các biến độc lập có tương quan cao với nhau\n",
    "- Hậu quả: Làm cho mô hình thống kê có phương sai lớn, kết quả mô hình bị giảm độ tin cậy\n",
    "- Cách khắc phục:\n",
    "    + Lấy thêm dữ liệu\n",
    "    + Xoá bỏ các biến (cột) đa cộng tuyến\n",
    "- Các lưu ý:\n",
    "    + Biến không có tương quan thì không có đa cộng tuyến, biến có tương quan thì chưa hẳn đã là đa cộng tuyến\n",
    "    + Phương pháp xác định đa cộng tuyến:\n",
    "        * Phương pháp tốt nhất VIF - Hệ số phóng đại phương sai\n",
    "        * Các phương pháp hồi quy Rigger hoặc Lasso\n",
    "    + Kết luận:\n",
    "        * Khi thấy các biến có tương quan cao thì không nên loại bỏ ngay vì sẽ làm mất đi thông tin có giá trị. Cần phải kiểm tra thực sự là đa cộng tuyến mới nên loại bỏ\n",
    "        * Lựa chọn khéo léo việc loại bỏ biến đa cộng tuyến để giữ lại được nhiều biến ngẫu nhiên nhất cho bài toán nghiên cứu hồi quy.\n",
    "\n",
    "Ví dụ: Có 3 biến ngẫu nhiên A, B, C làm bài toàn hồi quy chính là tìm ra biến phụ thuộc D là hồi quy của A, B, C.\n",
    "Bài toán đặt ra:\n",
    "- A đa cộng tuyến với B\n",
    "- A cũng đa cộng tuyến với C\n",
    "=> Kết luận: Không nên loại B và C mà chỉ nên loại A"
   ]
  },
  {
   "cell_type": "markdown",
   "id": "597316ad-b9f2-4e29-958e-c7c7e6a19dc2",
   "metadata": {},
   "source": [
    "# CHỮA BÀI TẬP"
   ]
  },
  {
   "cell_type": "markdown",
   "id": "e92f8018-1044-4f8f-894c-f7636124c6e4",
   "metadata": {},
   "source": [
    "# 0. Khai báo các thư viện cần thiết"
   ]
  },
  {
   "cell_type": "code",
   "execution_count": 1,
   "id": "ab2bf2cc-be61-4904-89c0-f82821f3b854",
   "metadata": {},
   "outputs": [],
   "source": [
    "import pandas as pd\n",
    "import numpy as np\n",
    "import matplotlib.pyplot as plt\n",
    "import seaborn as sns"
   ]
  },
  {
   "cell_type": "markdown",
   "id": "16973d3d-eb04-45d2-b813-c04e14f27a06",
   "metadata": {},
   "source": [
    "# 1. Đọc dữ liệu từ file CSV"
   ]
  },
  {
   "cell_type": "code",
   "execution_count": 2,
   "id": "addc8fba-3d20-4b2e-9ad7-ddf8b8156ed6",
   "metadata": {},
   "outputs": [
    {
     "data": {
      "text/html": [
       "<div>\n",
       "<style scoped>\n",
       "    .dataframe tbody tr th:only-of-type {\n",
       "        vertical-align: middle;\n",
       "    }\n",
       "\n",
       "    .dataframe tbody tr th {\n",
       "        vertical-align: top;\n",
       "    }\n",
       "\n",
       "    .dataframe thead th {\n",
       "        text-align: right;\n",
       "    }\n",
       "</style>\n",
       "<table border=\"1\" class=\"dataframe\">\n",
       "  <thead>\n",
       "    <tr style=\"text-align: right;\">\n",
       "      <th></th>\n",
       "      <th>TV</th>\n",
       "      <th>Radio</th>\n",
       "      <th>Newspaper</th>\n",
       "      <th>Sales</th>\n",
       "    </tr>\n",
       "  </thead>\n",
       "  <tbody>\n",
       "    <tr>\n",
       "      <th>0</th>\n",
       "      <td>230.1</td>\n",
       "      <td>37.8</td>\n",
       "      <td>69.2</td>\n",
       "      <td>22.1</td>\n",
       "    </tr>\n",
       "    <tr>\n",
       "      <th>1</th>\n",
       "      <td>44.5</td>\n",
       "      <td>39.3</td>\n",
       "      <td>45.1</td>\n",
       "      <td>10.4</td>\n",
       "    </tr>\n",
       "    <tr>\n",
       "      <th>2</th>\n",
       "      <td>17.2</td>\n",
       "      <td>45.9</td>\n",
       "      <td>69.3</td>\n",
       "      <td>12.0</td>\n",
       "    </tr>\n",
       "    <tr>\n",
       "      <th>3</th>\n",
       "      <td>151.5</td>\n",
       "      <td>41.3</td>\n",
       "      <td>58.5</td>\n",
       "      <td>16.5</td>\n",
       "    </tr>\n",
       "    <tr>\n",
       "      <th>4</th>\n",
       "      <td>180.8</td>\n",
       "      <td>10.8</td>\n",
       "      <td>58.4</td>\n",
       "      <td>17.9</td>\n",
       "    </tr>\n",
       "  </tbody>\n",
       "</table>\n",
       "</div>"
      ],
      "text/plain": [
       "      TV  Radio  Newspaper  Sales\n",
       "0  230.1   37.8       69.2   22.1\n",
       "1   44.5   39.3       45.1   10.4\n",
       "2   17.2   45.9       69.3   12.0\n",
       "3  151.5   41.3       58.5   16.5\n",
       "4  180.8   10.8       58.4   17.9"
      ]
     },
     "execution_count": 2,
     "metadata": {},
     "output_type": "execute_result"
    }
   ],
   "source": [
    "df = pd.read_csv(\"https://s3.ap-southeast-1.amazonaws.com/learn.codegym.vn/media/public/2022/03/10172251/advertising.csv\", encoding = \"ISO-8859-1\")\n",
    "df.head()"
   ]
  },
  {
   "cell_type": "code",
   "execution_count": 3,
   "id": "ce71fcef-c2f0-4253-89bc-a9469a55ba0e",
   "metadata": {},
   "outputs": [
    {
     "data": {
      "text/html": [
       "<div>\n",
       "<style scoped>\n",
       "    .dataframe tbody tr th:only-of-type {\n",
       "        vertical-align: middle;\n",
       "    }\n",
       "\n",
       "    .dataframe tbody tr th {\n",
       "        vertical-align: top;\n",
       "    }\n",
       "\n",
       "    .dataframe thead th {\n",
       "        text-align: right;\n",
       "    }\n",
       "</style>\n",
       "<table border=\"1\" class=\"dataframe\">\n",
       "  <thead>\n",
       "    <tr style=\"text-align: right;\">\n",
       "      <th></th>\n",
       "      <th>TV</th>\n",
       "      <th>Radio</th>\n",
       "      <th>Newspaper</th>\n",
       "      <th>Sales</th>\n",
       "    </tr>\n",
       "  </thead>\n",
       "  <tbody>\n",
       "    <tr>\n",
       "      <th>count</th>\n",
       "      <td>200.000000</td>\n",
       "      <td>200.000000</td>\n",
       "      <td>200.000000</td>\n",
       "      <td>200.000000</td>\n",
       "    </tr>\n",
       "    <tr>\n",
       "      <th>mean</th>\n",
       "      <td>147.042500</td>\n",
       "      <td>23.264000</td>\n",
       "      <td>30.554000</td>\n",
       "      <td>15.130500</td>\n",
       "    </tr>\n",
       "    <tr>\n",
       "      <th>std</th>\n",
       "      <td>85.854236</td>\n",
       "      <td>14.846809</td>\n",
       "      <td>21.778621</td>\n",
       "      <td>5.283892</td>\n",
       "    </tr>\n",
       "    <tr>\n",
       "      <th>min</th>\n",
       "      <td>0.700000</td>\n",
       "      <td>0.000000</td>\n",
       "      <td>0.300000</td>\n",
       "      <td>1.600000</td>\n",
       "    </tr>\n",
       "    <tr>\n",
       "      <th>25%</th>\n",
       "      <td>74.375000</td>\n",
       "      <td>9.975000</td>\n",
       "      <td>12.750000</td>\n",
       "      <td>11.000000</td>\n",
       "    </tr>\n",
       "    <tr>\n",
       "      <th>50%</th>\n",
       "      <td>149.750000</td>\n",
       "      <td>22.900000</td>\n",
       "      <td>25.750000</td>\n",
       "      <td>16.000000</td>\n",
       "    </tr>\n",
       "    <tr>\n",
       "      <th>75%</th>\n",
       "      <td>218.825000</td>\n",
       "      <td>36.525000</td>\n",
       "      <td>45.100000</td>\n",
       "      <td>19.050000</td>\n",
       "    </tr>\n",
       "    <tr>\n",
       "      <th>max</th>\n",
       "      <td>296.400000</td>\n",
       "      <td>49.600000</td>\n",
       "      <td>114.000000</td>\n",
       "      <td>27.000000</td>\n",
       "    </tr>\n",
       "  </tbody>\n",
       "</table>\n",
       "</div>"
      ],
      "text/plain": [
       "               TV       Radio   Newspaper       Sales\n",
       "count  200.000000  200.000000  200.000000  200.000000\n",
       "mean   147.042500   23.264000   30.554000   15.130500\n",
       "std     85.854236   14.846809   21.778621    5.283892\n",
       "min      0.700000    0.000000    0.300000    1.600000\n",
       "25%     74.375000    9.975000   12.750000   11.000000\n",
       "50%    149.750000   22.900000   25.750000   16.000000\n",
       "75%    218.825000   36.525000   45.100000   19.050000\n",
       "max    296.400000   49.600000  114.000000   27.000000"
      ]
     },
     "execution_count": 3,
     "metadata": {},
     "output_type": "execute_result"
    }
   ],
   "source": [
    "df.describe()"
   ]
  },
  {
   "cell_type": "markdown",
   "id": "c45d5913-7347-4fe0-bffa-66ed125e76d4",
   "metadata": {},
   "source": [
    "# 2. Khai phá dữ liệu"
   ]
  },
  {
   "cell_type": "code",
   "execution_count": 4,
   "id": "2a9ba32a-0d89-4d24-8077-5c6e63c57fa6",
   "metadata": {},
   "outputs": [
    {
     "name": "stdout",
     "output_type": "stream",
     "text": [
      "<class 'pandas.core.frame.DataFrame'>\n",
      "RangeIndex: 200 entries, 0 to 199\n",
      "Data columns (total 4 columns):\n",
      " #   Column     Non-Null Count  Dtype  \n",
      "---  ------     --------------  -----  \n",
      " 0   TV         200 non-null    float64\n",
      " 1   Radio      200 non-null    float64\n",
      " 2   Newspaper  200 non-null    float64\n",
      " 3   Sales      200 non-null    float64\n",
      "dtypes: float64(4)\n",
      "memory usage: 6.4 KB\n"
     ]
    }
   ],
   "source": [
    "df.info()"
   ]
  },
  {
   "cell_type": "code",
   "execution_count": 5,
   "id": "1fe7acd4-1d01-4bf3-a6b1-be4af2fed534",
   "metadata": {},
   "outputs": [
    {
     "data": {
      "text/plain": [
       "<AxesSubplot:xlabel='Newspaper', ylabel='Sales'>"
      ]
     },
     "execution_count": 5,
     "metadata": {},
     "output_type": "execute_result"
    },
    {
     "data": {
      "image/png": "[encoded data removed]",
      "text/plain": [
       "<Figure size 1296x288 with 3 Axes>"
      ]
     },
     "metadata": {
      "needs_background": "light"
     },
     "output_type": "display_data"
    }
   ],
   "source": [
    "# Vẽ đồ thị để trực quan hoá mối quan hệ giữa các loại quảng cáo và doanh thu\n",
    "fig, ax = plt.subplots(1, 3, figsize = (18, 4))\n",
    "sns.scatterplot(y = \"Sales\", x = \"TV\", data = df, ax = ax[0])\n",
    "sns.scatterplot(y = \"Sales\", x = \"Radio\", data = df, color = \"r\", ax = ax[1])\n",
    "sns.scatterplot(y = \"Sales\", x = \"Newspaper\", data = df, color = \"g\", ax = ax[2])"
   ]
  },
  {
   "cell_type": "markdown",
   "id": "2d114b2a-f697-4c59-a8fb-198c06e2564c",
   "metadata": {},
   "source": [
    "# 3. Kiểm tra và loại bỏ dữ liệu ngoại lai"
   ]
  },
  {
   "cell_type": "code",
   "execution_count": 6,
   "id": "f4be8a61-34e4-4055-b7ff-25cdfaacb8b3",
   "metadata": {},
   "outputs": [
    {
     "data": {
      "text/plain": [
       "<AxesSubplot:>"
      ]
     },
     "execution_count": 6,
     "metadata": {},
     "output_type": "execute_result"
    },
    {
     "data": {
      "image/png": "[encoded data removed]",
      "text/plain": [
       "<Figure size 432x288 with 1 Axes>"
      ]
     },
     "metadata": {
      "needs_background": "light"
     },
     "output_type": "display_data"
    }
   ],
   "source": [
    "sns.boxplot(data = df)"
   ]
  },
  {
   "cell_type": "markdown",
   "id": "194dbe28-8023-478b-ad1c-790acfe48079",
   "metadata": {},
   "source": [
    "Nhận xét: Không có dữ liệu ngoại lai"
   ]
  },
  {
   "cell_type": "markdown",
   "id": "88ce2b11-e360-467c-b898-31222192fcc3",
   "metadata": {},
   "source": [
    "# 4. Xử lý dữ liệu"
   ]
  },
  {
   "cell_type": "code",
   "execution_count": 7,
   "id": "4c24f646-5d80-4902-92a5-1799169bd8df",
   "metadata": {},
   "outputs": [
    {
     "data": {
      "text/plain": [
       "Index([], dtype='object')"
      ]
     },
     "execution_count": 7,
     "metadata": {},
     "output_type": "execute_result"
    }
   ],
   "source": [
    "# Kiểm tra dữ liệu khuyết thiếu\n",
    "col_na = df.columns[df.isna().any()]\n",
    "col_na"
   ]
  },
  {
   "cell_type": "markdown",
   "id": "71ab244c-e090-4756-98c7-e93aaab297ec",
   "metadata": {},
   "source": [
    "Nhận xét: Không có dữ liệu khuyết thiếu nên không cần xử lý"
   ]
  },
  {
   "cell_type": "markdown",
   "id": "1ce1d0a9-0093-40d5-a0b4-25eb748bd9d3",
   "metadata": {},
   "source": [
    "# 5. Xử lý các cột dữ liệu"
   ]
  },
  {
   "cell_type": "markdown",
   "id": "74e9a7b8-3341-4e9f-8807-ee0e78e51ed7",
   "metadata": {},
   "source": [
    "#     5.1. Tìm dữ liệu đa cộng tuyến\n",
    "- Bước 1: Tính độ tương quan\n",
    "- Bước 2: Nếu có, tính đa cộng tuyến"
   ]
  },
  {
   "cell_type": "code",
   "execution_count": 8,
   "id": "70ad60be-d142-4e65-b063-d23b4bbb507f",
   "metadata": {},
   "outputs": [],
   "source": [
    "y = df.Sales\n",
    "df_ind = df.drop(\"Sales\", axis = 1)"
   ]
  },
  {
   "cell_type": "code",
   "execution_count": 9,
   "id": "7a5f3226-5555-4b3c-9cb1-f4e3989758c7",
   "metadata": {},
   "outputs": [
    {
     "data": {
      "text/plain": [
       "<AxesSubplot:>"
      ]
     },
     "execution_count": 9,
     "metadata": {},
     "output_type": "execute_result"
    },
    {
     "data": {
      "image/png": "[encoded data removed]",
      "text/plain": [
       "<Figure size 432x288 with 2 Axes>"
      ]
     },
     "metadata": {
      "needs_background": "light"
     },
     "output_type": "display_data"
    }
   ],
   "source": [
    "# Tìm tương quan\n",
    "df_cor = df_ind.corr(method = \"pearson\")\n",
    "\n",
    "# Tạo ra mặt na để loại bỏ tam giác 1/2 phía trên của heatmap\n",
    "mask = np.triu(np.ones_like(df_cor, dtype = bool))\n",
    "\n",
    "# Tạo bảng màu đẹp hơn\n",
    "cmap = sns.diverging_palette(230, 20, as_cmap=True)\n",
    "\n",
    "sns.heatmap(df_cor, vmin = -1, vmax= 1, mask = mask, cmap=cmap, center = 0, annot = True, square = True, linewidths= 0.5, cbar_kws={\"shrink\": 0.5, \"orientation\":\"vertical\"})"
   ]
  },
  {
   "cell_type": "markdown",
   "id": "9292bc69-0d4a-4efa-90d1-7772f3106d9c",
   "metadata": {},
   "source": [
    "Chu ý chỉ số tương quan pearson có giá trị từ -1 đến 1\n",
    "- Càng gần 0 thì không tương quan\n",
    "- Càng gần 1 hoặc -1 thì càng tương quan </br>\n",
    "==> Kết luận: Các biến độc lập không có tương quan nên không có đa cộng tuyến"
   ]
  },
  {
   "cell_type": "markdown",
   "id": "b0f0850f-146c-4edc-b391-9c112a0d714e",
   "metadata": {},
   "source": [
    "# 6: Xử lý biến độc lập"
   ]
  },
  {
   "cell_type": "markdown",
   "id": "7519cbec-9927-4726-89ef-18bb56dc3231",
   "metadata": {},
   "source": [
    "Nil"
   ]
  },
  {
   "cell_type": "markdown",
   "id": "f8edb970-eca1-4b73-92c7-8601082777d9",
   "metadata": {},
   "source": [
    "# 7. Xây dựng mô hình hồi quy tuyến tính"
   ]
  },
  {
   "cell_type": "code",
   "execution_count": 10,
   "id": "e63478c6-1cec-429f-8f6b-3eff90ae19db",
   "metadata": {},
   "outputs": [],
   "source": [
    "# Khai báo thư viện sklearn\n",
    "from sklearn.model_selection import train_test_split\n",
    "from sklearn.linear_model import LinearRegression\n",
    "from sklearn.metrics import mean_squared_error\n",
    "from sklearn.metrics import r2_score"
   ]
  },
  {
   "cell_type": "code",
   "execution_count": 11,
   "id": "f27b3b01-4fd5-4194-8974-818af68b374c",
   "metadata": {},
   "outputs": [],
   "source": [
    "# Chia tập dữ liệu thành hai tập là tập đào tạo (train set) và tập kiểm thử (test set)\n",
    "X_train, X_test, y_train, y_test = train_test_split(df_ind, y, test_size=0.2, random_state=42)"
   ]
  },
  {
   "cell_type": "code",
   "execution_count": 12,
   "id": "13b923b3-4235-4370-bf33-5ef3f3525ebc",
   "metadata": {},
   "outputs": [
    {
     "data": {
      "text/plain": [
       "pandas.core.frame.DataFrame"
      ]
     },
     "execution_count": 12,
     "metadata": {},
     "output_type": "execute_result"
    }
   ],
   "source": [
    "type(X_train)"
   ]
  },
  {
   "cell_type": "code",
   "execution_count": 13,
   "id": "7967c41f-8001-4656-9850-b4a151b78a37",
   "metadata": {},
   "outputs": [
    {
     "name": "stdout",
     "output_type": "stream",
     "text": [
      "<class 'pandas.core.frame.DataFrame'>\n",
      "Int64Index: 160 entries, 79 to 102\n",
      "Data columns (total 3 columns):\n",
      " #   Column     Non-Null Count  Dtype  \n",
      "---  ------     --------------  -----  \n",
      " 0   TV         160 non-null    float64\n",
      " 1   Radio      160 non-null    float64\n",
      " 2   Newspaper  160 non-null    float64\n",
      "dtypes: float64(3)\n",
      "memory usage: 5.0 KB\n"
     ]
    }
   ],
   "source": [
    "X_train.info()"
   ]
  },
  {
   "cell_type": "code",
   "execution_count": 14,
   "id": "a6c94709-733e-4bea-ac5d-8f04907d1ce4",
   "metadata": {},
   "outputs": [
    {
     "data": {
      "text/plain": [
       "LinearRegression()"
      ]
     },
     "execution_count": 14,
     "metadata": {},
     "output_type": "execute_result"
    }
   ],
   "source": [
    "# Xây dựng mô hình hồi quy\n",
    "model_r = LinearRegression()\n",
    "model_r.fit(X_train, y_train)"
   ]
  },
  {
   "cell_type": "code",
   "execution_count": 15,
   "id": "1dd5b850-62b1-41ab-83c0-2727ea383998",
   "metadata": {},
   "outputs": [
    {
     "data": {
      "text/plain": [
       "0.9059011844150826"
      ]
     },
     "execution_count": 15,
     "metadata": {},
     "output_type": "execute_result"
    }
   ],
   "source": [
    "# Kiểm tra Model\n",
    "scr = model_r.score(X_test, y_test)\n",
    "scr"
   ]
  },
  {
   "cell_type": "markdown",
   "id": "7c0cedec-80ac-47c3-b60e-38a781cb4447",
   "metadata": {},
   "source": [
    "Kết luận: Mô hình đạt dự báo với độ chính xác 0.9059 ~ 90.59%"
   ]
  },
  {
   "cell_type": "code",
   "execution_count": 16,
   "id": "086fb552-f94c-4436-9ef7-a837a64e8ae3",
   "metadata": {},
   "outputs": [],
   "source": [
    "# Dùng để dự báo"
   ]
  },
  {
   "cell_type": "code",
   "execution_count": 17,
   "id": "02a5c5aa-6231-488f-b349-4d935a2cd166",
   "metadata": {},
   "outputs": [],
   "source": [
    "y_pred = model_r.predict(X_test)"
   ]
  },
  {
   "cell_type": "code",
   "execution_count": 18,
   "id": "9a9e8c81-8e64-4757-883b-6b1a2de1db2f",
   "metadata": {},
   "outputs": [
    {
     "data": {
      "text/plain": [
       "numpy.ndarray"
      ]
     },
     "execution_count": 18,
     "metadata": {},
     "output_type": "execute_result"
    }
   ],
   "source": [
    "type(y_pred)"
   ]
  },
  {
   "cell_type": "code",
   "execution_count": 19,
   "id": "96c8b120-a301-45b5-8ae3-237c13c93a15",
   "metadata": {},
   "outputs": [
    {
     "name": "stdout",
     "output_type": "stream",
     "text": [
      "y_pred [17.0347724  20.40974033 23.72398873  9.27278518 21.68271879 12.56940161\n",
      " 21.08119452  8.69035045 17.23701254 16.66657475  8.92396497  8.4817344\n",
      " 18.2075123   8.06750728 12.64550975 14.93162809  8.12814594 17.89876565\n",
      " 11.00880637 20.47832788 20.80631846 12.59883297 10.9051829  22.38854775\n",
      "  9.41796094  7.92506736 20.83908497 13.81520938 10.77080925  7.92682509\n",
      " 15.95947357 10.63490851 20.80292008 10.43434164 21.5784752  21.18364487\n",
      " 12.12821771 22.80953262 12.60992766  6.46441252]\n",
      "y_test [16.9 22.4 21.4  7.3 24.7 12.6 22.3  8.4 16.5 16.1 11.   8.7 16.9  5.3\n",
      " 10.3 16.7  5.5 16.6 11.3 18.9 19.7 12.5 10.9 22.2 11.3  8.1 21.7 13.4\n",
      " 10.6  5.7 15.6 11.3 23.7  8.7 16.1 20.7 11.6 20.8 11.9  6.9]\n"
     ]
    }
   ],
   "source": [
    "print(\"y_pred\", y_pred)\n",
    "print(\"y_test\", y_test.to_numpy())"
   ]
  },
  {
   "cell_type": "code",
   "execution_count": 20,
   "id": "47150b8e-8696-4c51-806c-974bb142b035",
   "metadata": {},
   "outputs": [
    {
     "data": {
      "text/plain": [
       "pandas.core.series.Series"
      ]
     },
     "execution_count": 20,
     "metadata": {},
     "output_type": "execute_result"
    }
   ],
   "source": [
    "type(y_test)"
   ]
  },
  {
   "cell_type": "markdown",
   "id": "537538fa-5285-423e-a0da-adaef5761555",
   "metadata": {},
   "source": [
    "# 8. Đánh giá mô hình"
   ]
  },
  {
   "cell_type": "code",
   "execution_count": null,
   "id": "be92df9f-915b-40f5-89be-d35e77eb0ff6",
   "metadata": {},
   "outputs": [],
   "source": [
    "# Sử dụng r2_score\n",
    "score = r2_sc"
   ]
  }
 ],
 "metadata": {
  "kernelspec": {
   "display_name": "Python 3 (ipykernel)",
   "language": "python",
   "name": "python3"
  },
  "language_info": {
   "codemirror_mode": {
    "name": "ipython",
    "version": 3
   },
   "file_extension": ".py",
   "mimetype": "text/x-python",
   "name": "python",
   "nbconvert_exporter": "python",
   "pygments_lexer": "ipython3",
   "version": "3.10.1"
  }
 },
 "nbformat": 4,
 "nbformat_minor": 5
}
